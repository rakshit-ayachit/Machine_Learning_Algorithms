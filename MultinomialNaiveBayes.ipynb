{
 "cells": [
  {
   "cell_type": "code",
   "execution_count": 4,
   "id": "6fbcc86d",
   "metadata": {},
   "outputs": [
    {
     "name": "stdout",
     "output_type": "stream",
     "text": [
      "Best hyperparameters: {'alpha': 0.01, 'fit_prior': True}\n",
      "Accuracy: 0.7039106145251397\n",
      "Confusion matrix:\n",
      " [[85 20]\n",
      " [33 41]]\n"
     ]
    }
   ],
   "source": [
    "import pandas as pd\n",
    "from sklearn.naive_bayes import MultinomialNB\n",
    "from sklearn.model_selection import train_test_split, GridSearchCV\n",
    "from sklearn.metrics import accuracy_score, confusion_matrix\n",
    "from sklearn.preprocessing import StandardScaler, LabelEncoder\n",
    "import numpy as np\n",
    "from sklearn.metrics import accuracy_score\n",
    "\n",
    "\n",
    "x = pd.read_csv(\"C:/Users/USER/Documents/Machine_Learning_Algorithms/Datasets/titanic.csv\")\n",
    "\n",
    "#Preprocess and split the data\n",
    "\n",
    "le=LabelEncoder()\n",
    "x[\"Sex\"]=le.fit_transform(x[\"Sex\"])\n",
    "x[\"Sex\"].unique()\n",
    "\n",
    "x.isnull().sum()\n",
    "\n",
    "x['Age'].fillna(x['Age'].median(), inplace=True)\n",
    "\n",
    "x = x.drop([\"Name\", \"Ticket\", \"Cabin\", \"Embarked\"], axis=1)\n",
    "\n",
    "X=x.drop(['Survived'],axis=1)\n",
    "y=x['Survived']\n",
    "\n",
    "X_train, X_test, y_train, y_test = train_test_split(X, y, test_size=0.2, random_state=42)\n",
    "\n",
    "\n",
    "\n",
    "# create a Multinomial Naive Bayes model\n",
    "model = MultinomialNB()\n",
    "\n",
    "# set up a parameter grid for grid search\n",
    "param_grid = {'alpha': [0.01, 0.1, 1, 10],\n",
    "              'fit_prior': [True, False]}\n",
    "\n",
    "# perform grid search with cross-validation\n",
    "grid = GridSearchCV(model, param_grid, cv=5)\n",
    "grid.fit(X_train, y_train)\n",
    "\n",
    "# print the best hyperparameters\n",
    "print(\"Best hyperparameters:\", grid.best_params_)\n",
    "\n",
    "# predict the labels of the test set using the best model\n",
    "y_pred = grid.predict(X_test)\n",
    "\n",
    "# evaluate the accuracy of the model\n",
    "accuracy = accuracy_score(y_test, y_pred)\n",
    "print(\"Accuracy:\", accuracy)\n",
    "\n",
    "# create a confusion matrix\n",
    "conf_mat = confusion_matrix(y_test, y_pred)\n",
    "print(\"Confusion matrix:\\n\", conf_mat)\n"
   ]
  },
  {
   "cell_type": "code",
   "execution_count": null,
   "id": "ae7002e9",
   "metadata": {},
   "outputs": [],
   "source": []
  }
 ],
 "metadata": {
  "kernelspec": {
   "display_name": "Python 3 (ipykernel)",
   "language": "python",
   "name": "python3"
  },
  "language_info": {
   "codemirror_mode": {
    "name": "ipython",
    "version": 3
   },
   "file_extension": ".py",
   "mimetype": "text/x-python",
   "name": "python",
   "nbconvert_exporter": "python",
   "pygments_lexer": "ipython3",
   "version": "3.9.12"
  }
 },
 "nbformat": 4,
 "nbformat_minor": 5
}
