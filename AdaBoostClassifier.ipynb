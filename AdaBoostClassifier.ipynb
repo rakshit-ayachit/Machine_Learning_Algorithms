{
 "cells": [
  {
   "cell_type": "code",
   "execution_count": 2,
   "id": "1c4cfff9",
   "metadata": {},
   "outputs": [
    {
     "name": "stdout",
     "output_type": "stream",
     "text": [
      "Best Parameters: {'base_estimator': DecisionTreeClassifier(random_state=0), 'learning_rate': 1, 'n_estimators': 100}\n",
      "Accuracy Score: 0.7471781739387373\n",
      "Classification Report:\n",
      "               precision    recall  f1-score   support\n",
      "\n",
      "           0       0.74      0.75      0.75       105\n",
      "           1       0.64      0.62      0.63        74\n",
      "\n",
      "    accuracy                           0.70       179\n",
      "   macro avg       0.69      0.69      0.69       179\n",
      "weighted avg       0.70      0.70      0.70       179\n",
      "\n",
      "Confusion Matrix:\n",
      " [[79 26]\n",
      " [28 46]]\n"
     ]
    }
   ],
   "source": [
    "# Import necessary libraries\n",
    "import pandas as pd\n",
    "from sklearn.preprocessing import StandardScaler, LabelEncoder\n",
    "from sklearn.ensemble import AdaBoostClassifier\n",
    "from sklearn.tree import DecisionTreeClassifier\n",
    "from sklearn.model_selection import GridSearchCV, train_test_split\n",
    "from sklearn.metrics import accuracy_score, confusion_matrix, classification_report\n",
    "\n",
    "x = pd.read_csv(\"C:/Users/USER/Documents/Machine_Learning_Algorithms/Datasets/titanic.csv\")\n",
    "\n",
    "#Preprocess and split the data\n",
    "\n",
    "le=LabelEncoder()\n",
    "x[\"Sex\"]=le.fit_transform(x[\"Sex\"])\n",
    "x[\"Sex\"].unique()\n",
    "\n",
    "x.isnull().sum()\n",
    "\n",
    "x['Age'].fillna(x['Age'].median(), inplace=True)\n",
    "\n",
    "x = x.drop([\"Name\", \"Ticket\", \"Cabin\", \"Embarked\"], axis=1)\n",
    "\n",
    "X=x.drop(['Survived'],axis=1)\n",
    "y=x['Survived']\n",
    "\n",
    "X_train, X_test, y_train, y_test = train_test_split(X, y, test_size=0.2, random_state=42)\n",
    "\n",
    "\n",
    "# Create a decision tree classifier\n",
    "dt = DecisionTreeClassifier(random_state=0)\n",
    "\n",
    "# Define parameters for GridSearchCV\n",
    "param_grid = {'n_estimators': [50, 100, 200],\n",
    "              'learning_rate': [0.1, 0.5, 1],\n",
    "              'base_estimator': [dt]}\n",
    "\n",
    "# Create an AdaBoost classifier\n",
    "ada = AdaBoostClassifier()\n",
    "\n",
    "# Perform GridSearchCV to find the best parameters for the AdaBoost classifier\n",
    "grid_ada = GridSearchCV(estimator=ada, param_grid=param_grid, cv=5)\n",
    "grid_ada.fit(X_train, y_train)\n",
    "\n",
    "# Print the best parameters and accuracy score\n",
    "print(\"Best Parameters:\", grid_ada.best_params_)\n",
    "print(\"Accuracy Score:\", grid_ada.best_score_)\n",
    "\n",
    "# Make predictions on the testing set\n",
    "y_pred = grid_ada.predict(X_test)\n",
    "\n",
    "# Print the classification report and confusion matrix\n",
    "print(\"Classification Report:\\n\", classification_report(y_test, y_pred))\n",
    "print(\"Confusion Matrix:\\n\", confusion_matrix(y_test, y_pred))\n"
   ]
  },
  {
   "cell_type": "code",
   "execution_count": null,
   "id": "7faee7f2",
   "metadata": {},
   "outputs": [],
   "source": []
  }
 ],
 "metadata": {
  "kernelspec": {
   "display_name": "Python 3 (ipykernel)",
   "language": "python",
   "name": "python3"
  },
  "language_info": {
   "codemirror_mode": {
    "name": "ipython",
    "version": 3
   },
   "file_extension": ".py",
   "mimetype": "text/x-python",
   "name": "python",
   "nbconvert_exporter": "python",
   "pygments_lexer": "ipython3",
   "version": "3.9.12"
  }
 },
 "nbformat": 4,
 "nbformat_minor": 5
}
