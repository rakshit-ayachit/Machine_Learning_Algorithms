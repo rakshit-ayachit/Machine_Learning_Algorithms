{
 "cells": [
  {
   "cell_type": "code",
   "execution_count": 2,
   "id": "5effa2af",
   "metadata": {},
   "outputs": [
    {
     "name": "stdout",
     "output_type": "stream",
     "text": [
      "Accuracy Score: 0.7821229050279329\n"
     ]
    },
    {
     "name": "stderr",
     "output_type": "stream",
     "text": [
      "C:\\Users\\USER\\anaconda3\\lib\\site-packages\\sklearn\\linear_model\\_logistic.py:814: ConvergenceWarning: lbfgs failed to converge (status=1):\n",
      "STOP: TOTAL NO. of ITERATIONS REACHED LIMIT.\n",
      "\n",
      "Increase the number of iterations (max_iter) or scale the data as shown in:\n",
      "    https://scikit-learn.org/stable/modules/preprocessing.html\n",
      "Please also refer to the documentation for alternative solver options:\n",
      "    https://scikit-learn.org/stable/modules/linear_model.html#logistic-regression\n",
      "  n_iter_i = _check_optimize_result(\n"
     ]
    }
   ],
   "source": [
    "# Import necessary libraries\n",
    "import pandas as pd\n",
    "import numpy as np\n",
    "from sklearn.model_selection import train_test_split\n",
    "from sklearn.ensemble import RandomForestClassifier, VotingClassifier\n",
    "from sklearn.linear_model import LogisticRegression\n",
    "from sklearn.tree import DecisionTreeClassifier\n",
    "from sklearn.neighbors import KNeighborsClassifier\n",
    "from sklearn.metrics import accuracy_score\n",
    "from sklearn import preprocessing\n",
    "\n",
    "x = pd.read_csv(\"C:/Users/USER/Documents/Machine_Learning_Algorithms/Datasets/titanic.csv\")\n",
    "\n",
    "le=preprocessing.LabelEncoder()\n",
    "x[\"Sex\"]=le.fit_transform(x[\"Sex\"])\n",
    "x[\"Sex\"].unique()\n",
    "\n",
    "x.isnull().sum()\n",
    "\n",
    "x['Age'].fillna(x['Age'].median(), inplace=True)\n",
    "\n",
    "x = x.drop([\"Name\", \"Ticket\", \"Cabin\", \"Embarked\"], axis=1)\n",
    "\n",
    "X=x.drop(['Survived'],axis=1)\n",
    "y=x['Survived']\n",
    "\n",
    "X_train, X_test, y_train, y_test = train_test_split(X, y, test_size=0.2, random_state=42)\n",
    "# Define base models\n",
    "models = [('lr', LogisticRegression()), \n",
    "          ('dt', DecisionTreeClassifier()), \n",
    "          ('knn', KNeighborsClassifier()), \n",
    "          ('rf', RandomForestClassifier())]\n",
    "\n",
    "# Create a voting classifier\n",
    "vc = VotingClassifier(estimators=models, voting='hard')\n",
    "\n",
    "# Fit the model on the training data\n",
    "vc.fit(X_train, y_train)\n",
    "\n",
    "# Make predictions on the test data\n",
    "y_pred = vc.predict(X_test)\n",
    "\n",
    "# Calculate the accuracy score\n",
    "accuracy = accuracy_score(y_test, y_pred)\n",
    "print(f\"Accuracy Score: {accuracy}\")\n"
   ]
  }
 ],
 "metadata": {
  "kernelspec": {
   "display_name": "Python 3 (ipykernel)",
   "language": "python",
   "name": "python3"
  },
  "language_info": {
   "codemirror_mode": {
    "name": "ipython",
    "version": 3
   },
   "file_extension": ".py",
   "mimetype": "text/x-python",
   "name": "python",
   "nbconvert_exporter": "python",
   "pygments_lexer": "ipython3",
   "version": "3.9.12"
  }
 },
 "nbformat": 4,
 "nbformat_minor": 5
}
