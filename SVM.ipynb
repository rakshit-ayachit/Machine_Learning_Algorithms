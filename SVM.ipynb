{
 "cells": [
  {
   "cell_type": "code",
   "execution_count": null,
   "id": "2483b47d",
   "metadata": {},
   "outputs": [],
   "source": [
    "from sklearn.model_selection import train_test_split, GridSearchCV\n",
    "import pandas as pd\n",
    "import numpy as np\n",
    "from sklearn import preprocessing\n",
    "from sklearn.svm import SVC\n",
    "from sklearn.model_selection import GridSearchCV\n",
    "from sklearn.metrics import classification_report\n",
    "\n",
    "x = pd.read_csv(\"C:/Users/USER/Documents/Machine_Learning_Algorithms/Datasets/titanic.csv\")\n",
    "\n",
    "#Preprocess and split the data\n",
    "\n",
    "le=preprocessing.LabelEncoder()\n",
    "x[\"Sex\"]=le.fit_transform(x[\"Sex\"])\n",
    "x[\"Sex\"].unique()\n",
    "\n",
    "x.isnull().sum()\n",
    "\n",
    "x['Age'].fillna(x['Age'].median(), inplace=True)\n",
    "\n",
    "x = x.drop([\"Name\", \"Ticket\", \"Cabin\", \"Embarked\"], axis=1)\n",
    "\n",
    "X=x.drop(['Survived'],axis=1)\n",
    "y=x['Survived']\n",
    "\n",
    "X_train, X_test, y_train, y_test = train_test_split(X, y, test_size=0.2, random_state=42)\n",
    "\n",
    "# Define the SVM model and hyperparameters to tune\n",
    "svm = SVC()\n",
    "params = {'C': [0.1, 1, 10], 'kernel': ['linear', 'rbf'], 'gamma': [0.01, 0.1, 1]}\n",
    "\n",
    "# Perform grid search to find the best hyperparameters\n",
    "svm_grid = GridSearchCV(svm, params, cv=5)\n",
    "svm_grid.fit(X_train, y_train)\n",
    "\n",
    "# Print the best hyperparameters and their corresponding score\n",
    "print(\"Best hyperparameters: \", svm_grid.best_params_)\n",
    "print(\"Best score: \", svm_grid.best_score_)\n",
    "\n",
    "# Use the best model to make predictions on the testing set\n",
    "y_pred = svm_grid.predict(X_test)\n",
    "\n",
    "# Print the classification report and confusion matrix\n",
    "print(classification_report(y_test, y_pred))\n",
    "conf_mat = confusion_matrix(y_test, y_pred)\n",
    "sns.heatmap(conf_mat, annot=True, cmap='Blues', fmt='g')\n",
    "plt.xlabel('Predicted')\n",
    "plt.ylabel('Actual')\n",
    "plt.show()\n"
   ]
  },
  {
   "cell_type": "code",
   "execution_count": null,
   "id": "8f1ac3ec",
   "metadata": {},
   "outputs": [],
   "source": []
  }
 ],
 "metadata": {
  "kernelspec": {
   "display_name": "Python 3 (ipykernel)",
   "language": "python",
   "name": "python3"
  },
  "language_info": {
   "codemirror_mode": {
    "name": "ipython",
    "version": 3
   },
   "file_extension": ".py",
   "mimetype": "text/x-python",
   "name": "python",
   "nbconvert_exporter": "python",
   "pygments_lexer": "ipython3",
   "version": "3.9.12"
  }
 },
 "nbformat": 4,
 "nbformat_minor": 5
}
